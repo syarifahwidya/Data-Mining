{
 "cells": [
  {
   "cell_type": "markdown",
   "metadata": {},
   "source": [
    "# Tugas 3 Data Mining"
   ]
  },
  {
   "cell_type": "code",
   "execution_count": 21,
   "metadata": {},
   "outputs": [],
   "source": [
    "import pandas as pd\n",
    "import numpy as np"
   ]
  },
  {
   "cell_type": "code",
   "execution_count": 22,
   "metadata": {},
   "outputs": [
    {
     "name": "stdout",
     "output_type": "stream",
     "text": [
      "(398, 9)\n"
     ]
    },
    {
     "data": {
      "text/html": [
       "<div>\n",
       "<style scoped>\n",
       "    .dataframe tbody tr th:only-of-type {\n",
       "        vertical-align: middle;\n",
       "    }\n",
       "\n",
       "    .dataframe tbody tr th {\n",
       "        vertical-align: top;\n",
       "    }\n",
       "\n",
       "    .dataframe thead th {\n",
       "        text-align: right;\n",
       "    }\n",
       "</style>\n",
       "<table border=\"1\" class=\"dataframe\">\n",
       "  <thead>\n",
       "    <tr style=\"text-align: right;\">\n",
       "      <th></th>\n",
       "      <th>mpg</th>\n",
       "      <th>cylinders</th>\n",
       "      <th>displacement</th>\n",
       "      <th>horsepower</th>\n",
       "      <th>weight</th>\n",
       "      <th>acceleration</th>\n",
       "      <th>model year</th>\n",
       "      <th>origin</th>\n",
       "      <th>car name</th>\n",
       "    </tr>\n",
       "  </thead>\n",
       "  <tbody>\n",
       "    <tr>\n",
       "      <th>0</th>\n",
       "      <td>18</td>\n",
       "      <td>8</td>\n",
       "      <td>307</td>\n",
       "      <td>130.0</td>\n",
       "      <td>3504</td>\n",
       "      <td>12</td>\n",
       "      <td>70</td>\n",
       "      <td>1</td>\n",
       "      <td>chevrolet chevelle malibu</td>\n",
       "    </tr>\n",
       "    <tr>\n",
       "      <th>1</th>\n",
       "      <td>15</td>\n",
       "      <td>8</td>\n",
       "      <td>350</td>\n",
       "      <td>165.0</td>\n",
       "      <td>3693</td>\n",
       "      <td>12</td>\n",
       "      <td>70</td>\n",
       "      <td>1</td>\n",
       "      <td>buick skylark 320</td>\n",
       "    </tr>\n",
       "    <tr>\n",
       "      <th>2</th>\n",
       "      <td>18</td>\n",
       "      <td>8</td>\n",
       "      <td>318</td>\n",
       "      <td>150.0</td>\n",
       "      <td>3436</td>\n",
       "      <td>11</td>\n",
       "      <td>70</td>\n",
       "      <td>1</td>\n",
       "      <td>plymouth satellite</td>\n",
       "    </tr>\n",
       "    <tr>\n",
       "      <th>3</th>\n",
       "      <td>16</td>\n",
       "      <td>8</td>\n",
       "      <td>304</td>\n",
       "      <td>150.0</td>\n",
       "      <td>3433</td>\n",
       "      <td>12</td>\n",
       "      <td>70</td>\n",
       "      <td>1</td>\n",
       "      <td>amc rebel sst</td>\n",
       "    </tr>\n",
       "    <tr>\n",
       "      <th>4</th>\n",
       "      <td>17</td>\n",
       "      <td>8</td>\n",
       "      <td>302</td>\n",
       "      <td>140.0</td>\n",
       "      <td>3449</td>\n",
       "      <td>11</td>\n",
       "      <td>70</td>\n",
       "      <td>1</td>\n",
       "      <td>ford torino</td>\n",
       "    </tr>\n",
       "  </tbody>\n",
       "</table>\n",
       "</div>"
      ],
      "text/plain": [
       "   mpg  cylinders  displacement  horsepower  weight  acceleration  model year  \\\n",
       "0   18          8           307       130.0    3504            12          70   \n",
       "1   15          8           350       165.0    3693            12          70   \n",
       "2   18          8           318       150.0    3436            11          70   \n",
       "3   16          8           304       150.0    3433            12          70   \n",
       "4   17          8           302       140.0    3449            11          70   \n",
       "\n",
       "   origin                   car name  \n",
       "0       1  chevrolet chevelle malibu  \n",
       "1       1          buick skylark 320  \n",
       "2       1         plymouth satellite  \n",
       "3       1              amc rebel sst  \n",
       "4       1                ford torino  "
      ]
     },
     "execution_count": 22,
     "metadata": {},
     "output_type": "execute_result"
    }
   ],
   "source": [
    "data= pd.read_csv(\"autoMPG.csv\",sep=\";\")\n",
    "print(data.shape)\n",
    "data.head()"
   ]
  },
  {
   "cell_type": "code",
   "execution_count": 23,
   "metadata": {},
   "outputs": [
    {
     "name": "stdout",
     "output_type": "stream",
     "text": [
      "(398, 4)\n"
     ]
    },
    {
     "data": {
      "text/html": [
       "<div>\n",
       "<style scoped>\n",
       "    .dataframe tbody tr th:only-of-type {\n",
       "        vertical-align: middle;\n",
       "    }\n",
       "\n",
       "    .dataframe tbody tr th {\n",
       "        vertical-align: top;\n",
       "    }\n",
       "\n",
       "    .dataframe thead th {\n",
       "        text-align: right;\n",
       "    }\n",
       "</style>\n",
       "<table border=\"1\" class=\"dataframe\">\n",
       "  <thead>\n",
       "    <tr style=\"text-align: right;\">\n",
       "      <th></th>\n",
       "      <th>mpg</th>\n",
       "      <th>displacement</th>\n",
       "      <th>horsepower</th>\n",
       "      <th>weight</th>\n",
       "    </tr>\n",
       "  </thead>\n",
       "  <tbody>\n",
       "    <tr>\n",
       "      <th>0</th>\n",
       "      <td>18</td>\n",
       "      <td>307</td>\n",
       "      <td>130.0</td>\n",
       "      <td>3504</td>\n",
       "    </tr>\n",
       "    <tr>\n",
       "      <th>1</th>\n",
       "      <td>15</td>\n",
       "      <td>350</td>\n",
       "      <td>165.0</td>\n",
       "      <td>3693</td>\n",
       "    </tr>\n",
       "    <tr>\n",
       "      <th>2</th>\n",
       "      <td>18</td>\n",
       "      <td>318</td>\n",
       "      <td>150.0</td>\n",
       "      <td>3436</td>\n",
       "    </tr>\n",
       "    <tr>\n",
       "      <th>3</th>\n",
       "      <td>16</td>\n",
       "      <td>304</td>\n",
       "      <td>150.0</td>\n",
       "      <td>3433</td>\n",
       "    </tr>\n",
       "    <tr>\n",
       "      <th>4</th>\n",
       "      <td>17</td>\n",
       "      <td>302</td>\n",
       "      <td>140.0</td>\n",
       "      <td>3449</td>\n",
       "    </tr>\n",
       "  </tbody>\n",
       "</table>\n",
       "</div>"
      ],
      "text/plain": [
       "   mpg  displacement  horsepower  weight\n",
       "0   18           307       130.0    3504\n",
       "1   15           350       165.0    3693\n",
       "2   18           318       150.0    3436\n",
       "3   16           304       150.0    3433\n",
       "4   17           302       140.0    3449"
      ]
     },
     "execution_count": 23,
     "metadata": {},
     "output_type": "execute_result"
    }
   ],
   "source": [
    "dataregresi=data.drop(['cylinders','acceleration','model year','origin','car name'],1)\n",
    "print(dataregresi.shape)\n",
    "dataregresi.head()"
   ]
  },
  {
   "cell_type": "code",
   "execution_count": 24,
   "metadata": {},
   "outputs": [
    {
     "data": {
      "text/html": [
       "<div>\n",
       "<style scoped>\n",
       "    .dataframe tbody tr th:only-of-type {\n",
       "        vertical-align: middle;\n",
       "    }\n",
       "\n",
       "    .dataframe tbody tr th {\n",
       "        vertical-align: top;\n",
       "    }\n",
       "\n",
       "    .dataframe thead th {\n",
       "        text-align: right;\n",
       "    }\n",
       "</style>\n",
       "<table border=\"1\" class=\"dataframe\">\n",
       "  <thead>\n",
       "    <tr style=\"text-align: right;\">\n",
       "      <th></th>\n",
       "      <th>mpg</th>\n",
       "      <th>displacement</th>\n",
       "      <th>horsepower</th>\n",
       "      <th>weight</th>\n",
       "    </tr>\n",
       "  </thead>\n",
       "  <tbody>\n",
       "    <tr>\n",
       "      <th>count</th>\n",
       "      <td>398.000000</td>\n",
       "      <td>398.000000</td>\n",
       "      <td>392.000000</td>\n",
       "      <td>398.000000</td>\n",
       "    </tr>\n",
       "    <tr>\n",
       "      <th>mean</th>\n",
       "      <td>23.562814</td>\n",
       "      <td>193.427136</td>\n",
       "      <td>104.469388</td>\n",
       "      <td>2970.424623</td>\n",
       "    </tr>\n",
       "    <tr>\n",
       "      <th>std</th>\n",
       "      <td>7.812979</td>\n",
       "      <td>104.268683</td>\n",
       "      <td>38.491160</td>\n",
       "      <td>846.841774</td>\n",
       "    </tr>\n",
       "    <tr>\n",
       "      <th>min</th>\n",
       "      <td>9.000000</td>\n",
       "      <td>68.000000</td>\n",
       "      <td>46.000000</td>\n",
       "      <td>1613.000000</td>\n",
       "    </tr>\n",
       "    <tr>\n",
       "      <th>25%</th>\n",
       "      <td>18.000000</td>\n",
       "      <td>104.250000</td>\n",
       "      <td>75.000000</td>\n",
       "      <td>2223.750000</td>\n",
       "    </tr>\n",
       "    <tr>\n",
       "      <th>50%</th>\n",
       "      <td>23.000000</td>\n",
       "      <td>148.500000</td>\n",
       "      <td>93.500000</td>\n",
       "      <td>2803.500000</td>\n",
       "    </tr>\n",
       "    <tr>\n",
       "      <th>75%</th>\n",
       "      <td>29.000000</td>\n",
       "      <td>262.000000</td>\n",
       "      <td>126.000000</td>\n",
       "      <td>3608.000000</td>\n",
       "    </tr>\n",
       "    <tr>\n",
       "      <th>max</th>\n",
       "      <td>47.000000</td>\n",
       "      <td>455.000000</td>\n",
       "      <td>230.000000</td>\n",
       "      <td>5140.000000</td>\n",
       "    </tr>\n",
       "  </tbody>\n",
       "</table>\n",
       "</div>"
      ],
      "text/plain": [
       "              mpg  displacement  horsepower       weight\n",
       "count  398.000000    398.000000  392.000000   398.000000\n",
       "mean    23.562814    193.427136  104.469388  2970.424623\n",
       "std      7.812979    104.268683   38.491160   846.841774\n",
       "min      9.000000     68.000000   46.000000  1613.000000\n",
       "25%     18.000000    104.250000   75.000000  2223.750000\n",
       "50%     23.000000    148.500000   93.500000  2803.500000\n",
       "75%     29.000000    262.000000  126.000000  3608.000000\n",
       "max     47.000000    455.000000  230.000000  5140.000000"
      ]
     },
     "execution_count": 24,
     "metadata": {},
     "output_type": "execute_result"
    }
   ],
   "source": [
    "dataregresi.describe()"
   ]
  },
  {
   "cell_type": "code",
   "execution_count": 25,
   "metadata": {},
   "outputs": [
    {
     "data": {
      "text/plain": [
       "mpg             0\n",
       "displacement    0\n",
       "horsepower      6\n",
       "weight          0\n",
       "dtype: int64"
      ]
     },
     "execution_count": 25,
     "metadata": {},
     "output_type": "execute_result"
    }
   ],
   "source": [
    "#Pengecekan missing value\n",
    "np.sum(dataregresi.isnull())"
   ]
  },
  {
   "cell_type": "markdown",
   "metadata": {},
   "source": [
    "## Mengatasi Missing Value"
   ]
  },
  {
   "cell_type": "code",
   "execution_count": 26,
   "metadata": {},
   "outputs": [
    {
     "data": {
      "text/plain": [
       "mpg             0\n",
       "displacement    0\n",
       "horsepower      0\n",
       "weight          0\n",
       "dtype: int64"
      ]
     },
     "execution_count": 26,
     "metadata": {},
     "output_type": "execute_result"
    }
   ],
   "source": [
    "#melakukan imputasi dengan menggunakan nilai mean\n",
    "dataregresi['horsepower']=dataregresi['horsepower'].fillna (dataregresi['horsepower'].mean())\n",
    "\n",
    "np.sum(dataregresi.isnull())"
   ]
  },
  {
   "cell_type": "markdown",
   "metadata": {},
   "source": [
    "## Model Regresi 1"
   ]
  },
  {
   "cell_type": "code",
   "execution_count": 27,
   "metadata": {},
   "outputs": [
    {
     "name": "stdout",
     "output_type": "stream",
     "text": [
      "   displacement  horsepower  weight  b\n",
      "0           307       130.0    3504  1\n",
      "1           350       165.0    3693  1\n",
      "2           318       150.0    3436  1\n",
      "3           304       150.0    3433  1\n",
      "4           302       140.0    3449  1\n",
      "0    18\n",
      "1    15\n",
      "2    18\n",
      "3    16\n",
      "4    17\n",
      "Name: mpg, dtype: int64\n",
      "                            OLS Regression Results                            \n",
      "==============================================================================\n",
      "Dep. Variable:                    mpg   R-squared:                       0.703\n",
      "Model:                            OLS   Adj. R-squared:                  0.701\n",
      "Method:                 Least Squares   F-statistic:                     311.0\n",
      "Date:                Sun, 10 Mar 2019   Prob (F-statistic):          1.68e-103\n",
      "Time:                        18:48:30   Log-Likelihood:                -1140.8\n",
      "No. Observations:                 398   AIC:                             2290.\n",
      "Df Residuals:                     394   BIC:                             2305.\n",
      "Df Model:                           3                                         \n",
      "Covariance Type:            nonrobust                                         \n",
      "================================================================================\n",
      "                   coef    std err          t      P>|t|      [0.025      0.975]\n",
      "--------------------------------------------------------------------------------\n",
      "displacement    -0.0068      0.007     -1.028      0.305      -0.020       0.006\n",
      "horsepower      -0.0372      0.013     -2.933      0.004      -0.062      -0.012\n",
      "weight          -0.0054      0.001     -7.640      0.000      -0.007      -0.004\n",
      "b               44.9344      1.200     37.435      0.000      42.575      47.294\n",
      "==============================================================================\n",
      "Omnibus:                       37.768   Durbin-Watson:                   0.853\n",
      "Prob(Omnibus):                  0.000   Jarque-Bera (JB):               49.930\n",
      "Skew:                           0.705   Prob(JB):                     1.44e-11\n",
      "Kurtosis:                       4.012   Cond. No.                     1.74e+04\n",
      "==============================================================================\n",
      "\n",
      "Warnings:\n",
      "[1] Standard Errors assume that the covariance matrix of the errors is correctly specified.\n",
      "[2] The condition number is large, 1.74e+04. This might indicate that there are\n",
      "strong multicollinearity or other numerical problems.\n"
     ]
    }
   ],
   "source": [
    "from random import random\n",
    "from pandas import DataFrame\n",
    "from statsmodels.api import OLS\n",
    "prediktor=['displacement','horsepower','weight']\n",
    "x = dataregresi[prediktor]\n",
    "x['b']=1\n",
    "y = dataregresi.mpg\n",
    "\n",
    "print (x.head())\n",
    "print (y.head())\n",
    "\n",
    "model = OLS(y, x)\n",
    "result = model.fit()\n",
    "print(result.summary())"
   ]
  },
  {
   "cell_type": "markdown",
   "metadata": {},
   "source": [
    "## Mengatasi Missing Value dan Outlier"
   ]
  },
  {
   "cell_type": "code",
   "execution_count": 28,
   "metadata": {},
   "outputs": [
    {
     "data": {
      "text/plain": [
       "mpg             0\n",
       "displacement    0\n",
       "horsepower      0\n",
       "weight          0\n",
       "dtype: int64"
      ]
     },
     "execution_count": 28,
     "metadata": {},
     "output_type": "execute_result"
    }
   ],
   "source": [
    "data= pd.read_csv(\"autoMPG.csv\",sep=\";\")\n",
    "dataregresi=data.drop(['cylinders','acceleration','model year','origin','car name'],1)\n",
    "\n",
    "#Mengatasi Missing value\n",
    "dataregresi['horsepower']=dataregresi['horsepower'].fillna (dataregresi['horsepower'].mean())\n",
    "np.sum(dataregresi.isnull())"
   ]
  },
  {
   "cell_type": "code",
   "execution_count": 29,
   "metadata": {},
   "outputs": [
    {
     "name": "stdout",
     "output_type": "stream",
     "text": [
      "[[0.71289269 1.09060372 0.66919608 0.63086987]\n",
      " [1.09735243 1.5035189  1.58659918 0.85433297]\n",
      " [0.71289269 1.19623319 1.19342642 0.55047045]\n",
      " ...\n",
      " [1.08125277 0.56105701 0.53653371 0.79858454]\n",
      " [0.56863978 0.70509719 0.66759129 0.40841088]\n",
      " [0.95309953 0.71469987 0.58895674 0.29608816]]\n",
      "(392, 4)\n"
     ]
    }
   ],
   "source": [
    "#Mengatasi outlier\n",
    "from scipy import stats\n",
    "z = np.abs(stats.zscore(dataregresi._get_numeric_data()))\n",
    "print(z)\n",
    "\n",
    "dataregresi=dataregresi[(z<3).all(axis=1)]\n",
    "print(dataregresi.shape)\n"
   ]
  },
  {
   "cell_type": "markdown",
   "metadata": {},
   "source": [
    "## Model Regresi 2"
   ]
  },
  {
   "cell_type": "code",
   "execution_count": 30,
   "metadata": {},
   "outputs": [
    {
     "name": "stdout",
     "output_type": "stream",
     "text": [
      "   displacement  horsepower  weight  b\n",
      "0           307       130.0    3504  1\n",
      "1           350       165.0    3693  1\n",
      "2           318       150.0    3436  1\n",
      "3           304       150.0    3433  1\n",
      "4           302       140.0    3449  1\n",
      "0    18\n",
      "1    15\n",
      "2    18\n",
      "3    16\n",
      "4    17\n",
      "Name: mpg, dtype: int64\n",
      "                            OLS Regression Results                            \n",
      "==============================================================================\n",
      "Dep. Variable:                    mpg   R-squared:                       0.707\n",
      "Model:                            OLS   Adj. R-squared:                  0.705\n",
      "Method:                 Least Squares   F-statistic:                     312.0\n",
      "Date:                Sun, 10 Mar 2019   Prob (F-statistic):          5.20e-103\n",
      "Time:                        18:48:42   Log-Likelihood:                -1115.6\n",
      "No. Observations:                 392   AIC:                             2239.\n",
      "Df Residuals:                     388   BIC:                             2255.\n",
      "Df Model:                           3                                         \n",
      "Covariance Type:            nonrobust                                         \n",
      "================================================================================\n",
      "                   coef    std err          t      P>|t|      [0.025      0.975]\n",
      "--------------------------------------------------------------------------------\n",
      "displacement    -0.0066      0.007     -0.995      0.320      -0.020       0.006\n",
      "horsepower      -0.0444      0.013     -3.369      0.001      -0.070      -0.018\n",
      "weight          -0.0053      0.001     -6.931      0.000      -0.007      -0.004\n",
      "b               44.9922      1.205     37.324      0.000      42.622      47.362\n",
      "==============================================================================\n",
      "Omnibus:                       28.268   Durbin-Watson:                   0.842\n",
      "Prob(Omnibus):                  0.000   Jarque-Bera (JB):               33.744\n",
      "Skew:                           0.618   Prob(JB):                     4.70e-08\n",
      "Kurtosis:                       3.734   Cond. No.                     1.76e+04\n",
      "==============================================================================\n",
      "\n",
      "Warnings:\n",
      "[1] Standard Errors assume that the covariance matrix of the errors is correctly specified.\n",
      "[2] The condition number is large, 1.76e+04. This might indicate that there are\n",
      "strong multicollinearity or other numerical problems.\n"
     ]
    }
   ],
   "source": [
    "from random import random\n",
    "from pandas import DataFrame\n",
    "from statsmodels.api import OLS\n",
    "prediktor=['displacement','horsepower','weight']\n",
    "x = dataregresi[prediktor]\n",
    "x['b']=1\n",
    "y = dataregresi.mpg\n",
    "\n",
    "print (x.head())\n",
    "print (y.head())\n",
    "\n",
    "model = OLS(y, x)\n",
    "result = model.fit()\n",
    "print(result.summary())"
   ]
  },
  {
   "cell_type": "markdown",
   "metadata": {},
   "source": [
    "## Mengatasi Missing Value dan Transformasi"
   ]
  },
  {
   "cell_type": "code",
   "execution_count": 38,
   "metadata": {},
   "outputs": [
    {
     "data": {
      "text/plain": [
       "mpg             0\n",
       "displacement    0\n",
       "horsepower      0\n",
       "weight          0\n",
       "dtype: int64"
      ]
     },
     "execution_count": 38,
     "metadata": {},
     "output_type": "execute_result"
    }
   ],
   "source": [
    "data= pd.read_csv(\"autoMPG.csv\",sep=\";\")\n",
    "dataregresi=data.drop(['cylinders','acceleration','model year','origin','car name'],1)\n",
    "\n",
    "#Mengatasi Missing value\n",
    "dataregresi['horsepower']=dataregresi['horsepower'].fillna (dataregresi['horsepower'].mean())\n",
    "np.sum(dataregresi.isnull())"
   ]
  },
  {
   "cell_type": "code",
   "execution_count": 39,
   "metadata": {},
   "outputs": [
    {
     "name": "stdout",
     "output_type": "stream",
     "text": [
      "(398, 4)\n"
     ]
    },
    {
     "data": {
      "text/html": [
       "<div>\n",
       "<style scoped>\n",
       "    .dataframe tbody tr th:only-of-type {\n",
       "        vertical-align: middle;\n",
       "    }\n",
       "\n",
       "    .dataframe tbody tr th {\n",
       "        vertical-align: top;\n",
       "    }\n",
       "\n",
       "    .dataframe thead th {\n",
       "        text-align: right;\n",
       "    }\n",
       "</style>\n",
       "<table border=\"1\" class=\"dataframe\">\n",
       "  <thead>\n",
       "    <tr style=\"text-align: right;\">\n",
       "      <th></th>\n",
       "      <th>0</th>\n",
       "      <th>1</th>\n",
       "      <th>2</th>\n",
       "      <th>3</th>\n",
       "    </tr>\n",
       "  </thead>\n",
       "  <tbody>\n",
       "    <tr>\n",
       "      <th>0</th>\n",
       "      <td>0.005114</td>\n",
       "      <td>0.087219</td>\n",
       "      <td>0.036933</td>\n",
       "      <td>0.995491</td>\n",
       "    </tr>\n",
       "    <tr>\n",
       "      <th>1</th>\n",
       "      <td>0.004040</td>\n",
       "      <td>0.094257</td>\n",
       "      <td>0.044436</td>\n",
       "      <td>0.994548</td>\n",
       "    </tr>\n",
       "    <tr>\n",
       "      <th>2</th>\n",
       "      <td>0.005211</td>\n",
       "      <td>0.092067</td>\n",
       "      <td>0.043428</td>\n",
       "      <td>0.994792</td>\n",
       "    </tr>\n",
       "    <tr>\n",
       "      <th>3</th>\n",
       "      <td>0.004638</td>\n",
       "      <td>0.088123</td>\n",
       "      <td>0.043482</td>\n",
       "      <td>0.995149</td>\n",
       "    </tr>\n",
       "    <tr>\n",
       "      <th>4</th>\n",
       "      <td>0.004906</td>\n",
       "      <td>0.087156</td>\n",
       "      <td>0.040403</td>\n",
       "      <td>0.995363</td>\n",
       "    </tr>\n",
       "  </tbody>\n",
       "</table>\n",
       "</div>"
      ],
      "text/plain": [
       "          0         1         2         3\n",
       "0  0.005114  0.087219  0.036933  0.995491\n",
       "1  0.004040  0.094257  0.044436  0.994548\n",
       "2  0.005211  0.092067  0.043428  0.994792\n",
       "3  0.004638  0.088123  0.043482  0.995149\n",
       "4  0.004906  0.087156  0.040403  0.995363"
      ]
     },
     "execution_count": 39,
     "metadata": {},
     "output_type": "execute_result"
    }
   ],
   "source": [
    "#Melakukan transformasi dengan menggunakan metode normalization\n",
    "from sklearn.preprocessing import normalize\n",
    "regnorm=normalize(dataregresi,norm='l2')\n",
    "regnorm=pd.DataFrame(regnorm)\n",
    "print(regnorm.shape)\n",
    "regnorm.head()"
   ]
  },
  {
   "cell_type": "markdown",
   "metadata": {},
   "source": [
    "## Model Regresi 3"
   ]
  },
  {
   "cell_type": "code",
   "execution_count": 41,
   "metadata": {},
   "outputs": [
    {
     "name": "stdout",
     "output_type": "stream",
     "text": [
      "          1         2         3\n",
      "0  0.087219  0.036933  0.995491\n",
      "1  0.094257  0.044436  0.994548\n",
      "2  0.092067  0.043428  0.994792\n",
      "3  0.088123  0.043482  0.995149\n",
      "4  0.087156  0.040403  0.995363\n",
      "          0\n",
      "0  0.005114\n",
      "1  0.004040\n",
      "2  0.005211\n",
      "3  0.004638\n",
      "4  0.004906\n",
      "                            OLS Regression Results                            \n",
      "==============================================================================\n",
      "Dep. Variable:                      0   R-squared:                       0.891\n",
      "Model:                            OLS   Adj. R-squared:                  0.890\n",
      "Method:                 Least Squares   F-statistic:                     1071.\n",
      "Date:                Sun, 10 Mar 2019   Prob (F-statistic):          2.68e-189\n",
      "Time:                        18:55:03   Log-Likelihood:                 1687.7\n",
      "No. Observations:                 398   AIC:                            -3369.\n",
      "Df Residuals:                     395   BIC:                            -3357.\n",
      "Df Model:                           3                                         \n",
      "Covariance Type:            nonrobust                                         \n",
      "==============================================================================\n",
      "                 coef    std err          t      P>|t|      [0.025      0.975]\n",
      "------------------------------------------------------------------------------\n",
      "1             -0.2178      0.010    -20.866      0.000      -0.238      -0.197\n",
      "2              0.0838      0.031      2.724      0.007       0.023       0.144\n",
      "3              0.0196      0.001     18.358      0.000       0.018       0.022\n",
      "==============================================================================\n",
      "Omnibus:                       23.617   Durbin-Watson:                   1.114\n",
      "Prob(Omnibus):                  0.000   Jarque-Bera (JB):               27.440\n",
      "Skew:                           0.546   Prob(JB):                     1.10e-06\n",
      "Kurtosis:                       3.681   Cond. No.                         177.\n",
      "==============================================================================\n",
      "\n",
      "Warnings:\n",
      "[1] Standard Errors assume that the covariance matrix of the errors is correctly specified.\n"
     ]
    }
   ],
   "source": [
    "from random import random\n",
    "from pandas import DataFrame\n",
    "from statsmodels.api import OLS\n",
    "x=regnorm.iloc[0:398,1:4]\n",
    "y=regnorm.iloc[0:398,0:1]\n",
    "\n",
    "print (x.head())\n",
    "print (y.head())\n",
    "\n",
    "model = OLS(y, x)\n",
    "result = model.fit()\n",
    "print(result.summary())"
   ]
  },
  {
   "cell_type": "markdown",
   "metadata": {},
   "source": [
    "## Mengatasi Missing Value, Outlier dan Transformasi"
   ]
  },
  {
   "cell_type": "code",
   "execution_count": 52,
   "metadata": {},
   "outputs": [
    {
     "data": {
      "text/plain": [
       "mpg             0\n",
       "displacement    0\n",
       "horsepower      0\n",
       "weight          0\n",
       "dtype: int64"
      ]
     },
     "execution_count": 52,
     "metadata": {},
     "output_type": "execute_result"
    }
   ],
   "source": [
    "data= pd.read_csv(\"autoMPG.csv\",sep=\";\")\n",
    "dataregresi=data.drop(['cylinders','acceleration','model year','origin','car name'],1)\n",
    "\n",
    "#Mengatasi Missing value\n",
    "dataregresi['horsepower']=dataregresi['horsepower'].fillna (dataregresi['horsepower'].mean())\n",
    "np.sum(dataregresi.isnull())"
   ]
  },
  {
   "cell_type": "code",
   "execution_count": 53,
   "metadata": {},
   "outputs": [
    {
     "name": "stdout",
     "output_type": "stream",
     "text": [
      "[[0.71289269 1.09060372 0.66919608 0.63086987]\n",
      " [1.09735243 1.5035189  1.58659918 0.85433297]\n",
      " [0.71289269 1.19623319 1.19342642 0.55047045]\n",
      " ...\n",
      " [1.08125277 0.56105701 0.53653371 0.79858454]\n",
      " [0.56863978 0.70509719 0.66759129 0.40841088]\n",
      " [0.95309953 0.71469987 0.58895674 0.29608816]]\n",
      "(392, 4)\n"
     ]
    }
   ],
   "source": [
    "#Mengatasi outlier\n",
    "from scipy import stats\n",
    "z = np.abs(stats.zscore(dataregresi._get_numeric_data()))\n",
    "print(z)\n",
    "\n",
    "dataregresi=dataregresi[(z<3).all(axis=1)]\n",
    "print(dataregresi.shape)"
   ]
  },
  {
   "cell_type": "code",
   "execution_count": 54,
   "metadata": {},
   "outputs": [
    {
     "name": "stdout",
     "output_type": "stream",
     "text": [
      "(392, 4)\n"
     ]
    },
    {
     "data": {
      "text/html": [
       "<div>\n",
       "<style scoped>\n",
       "    .dataframe tbody tr th:only-of-type {\n",
       "        vertical-align: middle;\n",
       "    }\n",
       "\n",
       "    .dataframe tbody tr th {\n",
       "        vertical-align: top;\n",
       "    }\n",
       "\n",
       "    .dataframe thead th {\n",
       "        text-align: right;\n",
       "    }\n",
       "</style>\n",
       "<table border=\"1\" class=\"dataframe\">\n",
       "  <thead>\n",
       "    <tr style=\"text-align: right;\">\n",
       "      <th></th>\n",
       "      <th>0</th>\n",
       "      <th>1</th>\n",
       "      <th>2</th>\n",
       "      <th>3</th>\n",
       "    </tr>\n",
       "  </thead>\n",
       "  <tbody>\n",
       "    <tr>\n",
       "      <th>0</th>\n",
       "      <td>0.005114</td>\n",
       "      <td>0.087219</td>\n",
       "      <td>0.036933</td>\n",
       "      <td>0.995491</td>\n",
       "    </tr>\n",
       "    <tr>\n",
       "      <th>1</th>\n",
       "      <td>0.004040</td>\n",
       "      <td>0.094257</td>\n",
       "      <td>0.044436</td>\n",
       "      <td>0.994548</td>\n",
       "    </tr>\n",
       "    <tr>\n",
       "      <th>2</th>\n",
       "      <td>0.005211</td>\n",
       "      <td>0.092067</td>\n",
       "      <td>0.043428</td>\n",
       "      <td>0.994792</td>\n",
       "    </tr>\n",
       "    <tr>\n",
       "      <th>3</th>\n",
       "      <td>0.004638</td>\n",
       "      <td>0.088123</td>\n",
       "      <td>0.043482</td>\n",
       "      <td>0.995149</td>\n",
       "    </tr>\n",
       "    <tr>\n",
       "      <th>4</th>\n",
       "      <td>0.004906</td>\n",
       "      <td>0.087156</td>\n",
       "      <td>0.040403</td>\n",
       "      <td>0.995363</td>\n",
       "    </tr>\n",
       "  </tbody>\n",
       "</table>\n",
       "</div>"
      ],
      "text/plain": [
       "          0         1         2         3\n",
       "0  0.005114  0.087219  0.036933  0.995491\n",
       "1  0.004040  0.094257  0.044436  0.994548\n",
       "2  0.005211  0.092067  0.043428  0.994792\n",
       "3  0.004638  0.088123  0.043482  0.995149\n",
       "4  0.004906  0.087156  0.040403  0.995363"
      ]
     },
     "execution_count": 54,
     "metadata": {},
     "output_type": "execute_result"
    }
   ],
   "source": [
    "#Melakukan transformasi dengan menggunakan metode normalization\n",
    "from sklearn.preprocessing import normalize\n",
    "regnorm=normalize(dataregresi,norm='l2')\n",
    "regnorm=pd.DataFrame(regnorm)\n",
    "print(regnorm.shape)\n",
    "regnorm.head()"
   ]
  },
  {
   "cell_type": "markdown",
   "metadata": {},
   "source": [
    "## Model Regresi 4"
   ]
  },
  {
   "cell_type": "code",
   "execution_count": 56,
   "metadata": {},
   "outputs": [
    {
     "name": "stdout",
     "output_type": "stream",
     "text": [
      "          1         2         3\n",
      "0  0.087219  0.036933  0.995491\n",
      "1  0.094257  0.044436  0.994548\n",
      "2  0.092067  0.043428  0.994792\n",
      "3  0.088123  0.043482  0.995149\n",
      "4  0.087156  0.040403  0.995363\n",
      "          0\n",
      "0  0.005114\n",
      "1  0.004040\n",
      "2  0.005211\n",
      "3  0.004638\n",
      "4  0.004906\n",
      "                            OLS Regression Results                            \n",
      "==============================================================================\n",
      "Dep. Variable:                      0   R-squared:                       0.894\n",
      "Model:                            OLS   Adj. R-squared:                  0.893\n",
      "Method:                 Least Squares   F-statistic:                     1096.\n",
      "Date:                Sun, 10 Mar 2019   Prob (F-statistic):          2.51e-189\n",
      "Time:                        19:05:05   Log-Likelihood:                 1668.5\n",
      "No. Observations:                 392   AIC:                            -3331.\n",
      "Df Residuals:                     389   BIC:                            -3319.\n",
      "Df Model:                           3                                         \n",
      "Covariance Type:            nonrobust                                         \n",
      "==============================================================================\n",
      "                 coef    std err          t      P>|t|      [0.025      0.975]\n",
      "------------------------------------------------------------------------------\n",
      "1             -0.2232      0.011    -21.175      0.000      -0.244      -0.202\n",
      "2              0.0531      0.032      1.651      0.100      -0.010       0.116\n",
      "3              0.0210      0.001     18.001      0.000       0.019       0.023\n",
      "==============================================================================\n",
      "Omnibus:                       17.194   Durbin-Watson:                   1.119\n",
      "Prob(Omnibus):                  0.000   Jarque-Bera (JB):               18.947\n",
      "Skew:                           0.460   Prob(JB):                     7.68e-05\n",
      "Kurtosis:                       3.562   Cond. No.                         185.\n",
      "==============================================================================\n",
      "\n",
      "Warnings:\n",
      "[1] Standard Errors assume that the covariance matrix of the errors is correctly specified.\n"
     ]
    }
   ],
   "source": [
    "from random import random\n",
    "from pandas import DataFrame\n",
    "from statsmodels.api import OLS\n",
    "x=regnorm.iloc[0:393,1:4]\n",
    "y=regnorm.iloc[0:393,0:1]\n",
    "\n",
    "print (x.head())\n",
    "print (y.head())\n",
    "\n",
    "model = OLS(y, x)\n",
    "result = model.fit()\n",
    "print(result.summary())"
   ]
  },
  {
   "cell_type": "code",
   "execution_count": null,
   "metadata": {},
   "outputs": [],
   "source": []
  },
  {
   "cell_type": "code",
   "execution_count": null,
   "metadata": {},
   "outputs": [],
   "source": []
  }
 ],
 "metadata": {
  "kernelspec": {
   "display_name": "Python 3",
   "language": "python",
   "name": "python3"
  },
  "language_info": {
   "codemirror_mode": {
    "name": "ipython",
    "version": 3
   },
   "file_extension": ".py",
   "mimetype": "text/x-python",
   "name": "python",
   "nbconvert_exporter": "python",
   "pygments_lexer": "ipython3",
   "version": "3.7.1"
  }
 },
 "nbformat": 4,
 "nbformat_minor": 2
}
